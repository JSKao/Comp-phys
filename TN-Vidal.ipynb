{
 "cells": [
  {
   "cell_type": "markdown",
   "metadata": {},
   "source": [
    "# Explorations in Condensed Matter  by G. Vidal"
   ]
  },
  {
   "cell_type": "markdown",
   "metadata": {},
   "source": [
    "All physical ground states of local Hamiltonians obey area law which was known around 1990. Tensor network(TN) was later established upon this."
   ]
  },
  {
   "cell_type": "markdown",
   "metadata": {},
   "source": [
    "As preparation, we will review some techniques that bring us to study entanglement in many-body ground states."
   ]
  },
  {
   "cell_type": "markdown",
   "metadata": {},
   "source": [
    "* Exact diagonalization (N<40)\n",
    "* Free fermion formalism (N~1000)"
   ]
  },
  {
   "cell_type": "code",
   "execution_count": 1,
   "metadata": {},
   "outputs": [],
   "source": [
    "import numpy as np"
   ]
  },
  {
   "cell_type": "code",
   "execution_count": 18,
   "metadata": {},
   "outputs": [],
   "source": [
    "a=1\n",
    "b=2.3\n",
    "z= complex(np.random.rand(),np.random.rand())"
   ]
  },
  {
   "cell_type": "code",
   "execution_count": 19,
   "metadata": {},
   "outputs": [
    {
     "data": {
      "text/plain": [
       "(0.8512083538820534+0.9142692419379427j)"
      ]
     },
     "execution_count": 19,
     "metadata": {},
     "output_type": "execute_result"
    }
   ],
   "source": [
    "z"
   ]
  },
  {
   "cell_type": "code",
   "execution_count": 45,
   "metadata": {},
   "outputs": [
    {
     "data": {
      "text/plain": [
       "(1, 4)"
      ]
     },
     "execution_count": 45,
     "metadata": {},
     "output_type": "execute_result"
    }
   ],
   "source": [
    "v=np.array([[1,2,3,4],])\n",
    "v.shape"
   ]
  },
  {
   "cell_type": "code",
   "execution_count": 40,
   "metadata": {},
   "outputs": [
    {
     "data": {
      "text/plain": [
       "array([[1],\n",
       "       [2],\n",
       "       [3],\n",
       "       [4]])"
      ]
     },
     "execution_count": 40,
     "metadata": {},
     "output_type": "execute_result"
    }
   ],
   "source": [
    "np.transpose(v)"
   ]
  },
  {
   "cell_type": "code",
   "execution_count": 41,
   "metadata": {},
   "outputs": [
    {
     "data": {
      "text/plain": [
       "array([[30]])"
      ]
     },
     "execution_count": 41,
     "metadata": {},
     "output_type": "execute_result"
    }
   ],
   "source": [
    "np.dot(v,np.transpose(v))"
   ]
  },
  {
   "cell_type": "code",
   "execution_count": 42,
   "metadata": {},
   "outputs": [
    {
     "data": {
      "text/plain": [
       "array([[ 1,  2,  3,  4],\n",
       "       [ 2,  4,  6,  8],\n",
       "       [ 3,  6,  9, 12],\n",
       "       [ 4,  8, 12, 16]])"
      ]
     },
     "execution_count": 42,
     "metadata": {},
     "output_type": "execute_result"
    }
   ],
   "source": [
    "np.matmul(np.transpose(v),v)"
   ]
  },
  {
   "cell_type": "code",
   "execution_count": 49,
   "metadata": {},
   "outputs": [],
   "source": [
    "M = np.random.rand(3,3)+np.random.rand(3,3)*1j"
   ]
  },
  {
   "cell_type": "code",
   "execution_count": 58,
   "metadata": {},
   "outputs": [],
   "source": [
    "H = (M+np.transpose(np.conj(M)))/2"
   ]
  },
  {
   "cell_type": "code",
   "execution_count": 59,
   "metadata": {},
   "outputs": [],
   "source": [
    "E,U = np.linalg.eig(H)"
   ]
  },
  {
   "cell_type": "code",
   "execution_count": 60,
   "metadata": {},
   "outputs": [
    {
     "data": {
      "text/plain": [
       "array([ 1.85682518+6.17648335e-17j,  0.35576651+2.61911066e-17j,\n",
       "       -0.38928945-4.68921326e-18j])"
      ]
     },
     "execution_count": 60,
     "metadata": {},
     "output_type": "execute_result"
    }
   ],
   "source": [
    "E"
   ]
  },
  {
   "cell_type": "code",
   "execution_count": 61,
   "metadata": {},
   "outputs": [
    {
     "data": {
      "text/plain": [
       "array([[ 0.30974298+0.1122486j ,  0.84071287+0.j        ,\n",
       "        -0.39235607+0.17526588j],\n",
       "       [ 0.69256998+0.j        , -0.45794617-0.10086499j,\n",
       "        -0.51649837-0.18354239j],\n",
       "       [ 0.64046613-0.04011858j,  0.10426755+0.24988339j,\n",
       "         0.71755154+0.j        ]])"
      ]
     },
     "execution_count": 61,
     "metadata": {},
     "output_type": "execute_result"
    }
   ],
   "source": [
    "U"
   ]
  },
  {
   "cell_type": "markdown",
   "metadata": {},
   "source": [
    "### Kronecker Product"
   ]
  },
  {
   "cell_type": "code",
   "execution_count": 62,
   "metadata": {},
   "outputs": [],
   "source": [
    "I = np.eye(2)"
   ]
  },
  {
   "cell_type": "code",
   "execution_count": 68,
   "metadata": {},
   "outputs": [],
   "source": [
    "sigmaX = np.array([[0.,1],[1.,0]])\n",
    "sigmaZ = np.array([[1.,0],[0.,-1]])"
   ]
  },
  {
   "cell_type": "code",
   "execution_count": 69,
   "metadata": {},
   "outputs": [],
   "source": [
    "A = np.array([[1.,2],[3.,4]])"
   ]
  },
  {
   "cell_type": "code",
   "execution_count": 70,
   "metadata": {},
   "outputs": [
    {
     "data": {
      "text/plain": [
       "array([[1., 2., 0., 0.],\n",
       "       [3., 4., 0., 0.],\n",
       "       [0., 0., 1., 2.],\n",
       "       [0., 0., 3., 4.]])"
      ]
     },
     "execution_count": 70,
     "metadata": {},
     "output_type": "execute_result"
    }
   ],
   "source": [
    "np.kron(I,A)"
   ]
  },
  {
   "cell_type": "markdown",
   "metadata": {},
   "source": [
    "### 1D Quantum Ising model for N =3 spins"
   ]
  },
  {
   "cell_type": "markdown",
   "metadata": {},
   "source": [
    "$H = \\sigma^{x}_{1}\\otimes\\sigma^{x}_{2}+\\sigma^{x}_{2}\\otimes\\sigma^{x}_{3}+\\sigma^{x}_{3}\\otimes\\sigma^{x}_{1}+h(\\sigma^{z}_{1}+\\sigma^{z}_{2}+\\sigma^{z}_{3})$"
   ]
  },
  {
   "cell_type": "code",
   "execution_count": 71,
   "metadata": {},
   "outputs": [],
   "source": [
    "H3_o = np.kron(np.kron(sigmaX,sigmaX),I)+np.kron(I,np.kron(sigmaX,sigmaX))+np.kron(sigmaX,np.kron(I,sigmaX))"
   ]
  },
  {
   "cell_type": "code",
   "execution_count": 72,
   "metadata": {},
   "outputs": [],
   "source": [
    "H3_m = np.kron(sigmaZ,np.kron(I,I))+np.kron(I,np.kron(sigmaZ,I))+np.kron(I,np.kron(I,sigmaZ))"
   ]
  },
  {
   "cell_type": "code",
   "execution_count": 73,
   "metadata": {},
   "outputs": [],
   "source": [
    "H3_ising = H3_o + H3_m"
   ]
  },
  {
   "cell_type": "code",
   "execution_count": 74,
   "metadata": {},
   "outputs": [
    {
     "data": {
      "text/plain": [
       "array([[ 3.,  0.,  0.,  1.,  0.,  1.,  1.,  0.],\n",
       "       [ 0.,  1.,  1.,  0.,  1.,  0.,  0.,  1.],\n",
       "       [ 0.,  1.,  1.,  0.,  1.,  0.,  0.,  1.],\n",
       "       [ 1.,  0.,  0., -1.,  0.,  1.,  1.,  0.],\n",
       "       [ 0.,  1.,  1.,  0.,  1.,  0.,  0.,  1.],\n",
       "       [ 1.,  0.,  0.,  1.,  0., -1.,  1.,  0.],\n",
       "       [ 1.,  0.,  0.,  1.,  0.,  1., -1.,  0.],\n",
       "       [ 0.,  1.,  1.,  0.,  1.,  0.,  0., -3.]])"
      ]
     },
     "execution_count": 74,
     "metadata": {},
     "output_type": "execute_result"
    }
   ],
   "source": [
    "H3_ising"
   ]
  },
  {
   "cell_type": "code",
   "execution_count": 75,
   "metadata": {},
   "outputs": [],
   "source": [
    "E_3ising , U_3ising = np.linalg.eig(H3_ising)"
   ]
  },
  {
   "cell_type": "markdown",
   "metadata": {},
   "source": [
    "# Lec.02 "
   ]
  },
  {
   "cell_type": "markdown",
   "metadata": {},
   "source": [
    "## 0:00~29:00"
   ]
  },
  {
   "cell_type": "markdown",
   "metadata": {},
   "source": [
    "### 1D Quantum Ising model for N spins"
   ]
  },
  {
   "cell_type": "markdown",
   "metadata": {},
   "source": [
    "$H = -\\sum_{n=1}^{N-1}\\sigma^{x}_{n}\\sigma^{x}_{n+1}-h\\sum_{n=1}^{N}\\sigma^{z}_{n}-\\sigma^{x}_{N}\\sigma^{x}_{1}$"
   ]
  },
  {
   "cell_type": "markdown",
   "metadata": {},
   "source": [
    "where the last term is picked out from summation and serves as periodic boundary condition."
   ]
  },
  {
   "cell_type": "markdown",
   "metadata": {},
   "source": [
    "We can introduce two operators \n",
    "* Translation operator T such that $T|s_{1},s_{2},...,s_{N-1},s_{N}>=|s_{N},s_{1},...,s_{N-2},s_{N-1}>$\n",
    "* Spin flip(Z2 symmetry) operator S = $\\sigma^{z}_{1}\\sigma^{z}_{2}...\\sigma^{z}_{N-1}\\sigma^{z}_{N}$"
   ]
  },
  {
   "cell_type": "markdown",
   "metadata": {},
   "source": [
    "It can be shown that T, S and H commute with each other."
   ]
  },
  {
   "cell_type": "markdown",
   "metadata": {},
   "source": [
    "And we denote the eigenbasis that diaganalize these three operators by $|E_{\\alpha},K_{\\alpha},P_{\\alpha}>$"
   ]
  },
  {
   "cell_type": "markdown",
   "metadata": {},
   "source": [
    "$H|E_{\\alpha},K_{\\alpha},P_{\\alpha}>=E_{\\alpha}|E_{\\alpha},K_{\\alpha},P_{\\alpha}> \\\\\n",
    "T|E_{\\alpha},K_{\\alpha},P_{\\alpha}>=e^{iK_{\\alpha}}|E_{\\alpha},K_{\\alpha},P_{\\alpha}> , -\\pi<K_{\\alpha}\\leq\\pi \\\\\n",
    "S|E_{\\alpha},K_{\\alpha},P_{\\alpha}> = (-1)^{P_{\\alpha}}|E_{\\alpha},K_{\\alpha},P_{\\alpha}> , P_{\\alpha}=0,1$"
   ]
  },
  {
   "cell_type": "markdown",
   "metadata": {},
   "source": [
    "### Some remarks on quantum phase transition"
   ]
  },
  {
   "cell_type": "markdown",
   "metadata": {},
   "source": [
    "Low energy or long distance criticality are described by conformal field theory(CFT). We list some facts of relevance here.\n",
    "* A CFT is completely specified by the conformal datas which identify a universality class of quantum phase transition. \n",
    "* A conformal data consists of a list of so-called \"primary field\" $\\phi_{\\alpha}$ which has conformal dimension $h_{\\alpha}$ and $\\bar{h}_{\\alpha}$\n",
    "* Scaling dimension $\\Delta = h_{\\alpha}+\\bar{h}_{\\alpha}$ and conformal spin $s_{c}=h_{\\alpha}-\\bar{h}_{\\alpha}$ are two datas we'll extract from the 1D quantum Ising model(spin chain).\n",
    "* The physical concept of these two datas is that in 2D spacetime two point(one is origin here) correlation $<\\phi_{\\alpha}(x,y)\\phi_{\\beta}(0,0)>$ is decaying scaled by distance and angle proportional to $\\Delta$ and $s_{c}$ respectively."
   ]
  },
  {
   "cell_type": "markdown",
   "metadata": {},
   "source": [
    "For our 1D quantum ising model with periodic b.c., primary fields are identity I, spin $\\sigma$ and energy density $\\epsilon$, and with antiperiodic b.c., primary fields are disorder operator and two fermionic field. Each of these six primary fields, there are corresponding $\\Delta$ and $s_{c}$. We can extract them from our example of spin chain."
   ]
  },
  {
   "cell_type": "markdown",
   "metadata": {},
   "source": [
    "The connection of spin chain to CFT are established by Cardy in 80's. We'll not dig into the detail but give the result we need here."
   ]
  },
  {
   "cell_type": "markdown",
   "metadata": {},
   "source": [
    "$E_{\\alpha}=a+\\frac{b}{N}(\\Delta-\\frac{c}{12})+o(\\frac{1}{N}) \\\\\n",
    "K_{\\alpha}=\\frac{2\\pi}{N}s_{c}$"
   ]
  },
  {
   "cell_type": "markdown",
   "metadata": {},
   "source": [
    "## 29:00 ~ 41:00"
   ]
  },
  {
   "cell_type": "markdown",
   "metadata": {},
   "source": [
    "### Build the Hamiltonian for Quantum ising model of N spins"
   ]
  },
  {
   "cell_type": "code",
   "execution_count": 101,
   "metadata": {},
   "outputs": [],
   "source": [
    "N = 10\n",
    "h = 1.0\n",
    "XX = np.kron(sigmaX,sigmaX)\n",
    "H = -XX-h*(np.kron(sigmaZ,I)+np.kron(I,sigmaZ))  # Start from two spins "
   ]
  },
  {
   "cell_type": "code",
   "execution_count": 102,
   "metadata": {},
   "outputs": [],
   "source": [
    "# Concatenate the recent spin chain with an additional spin\n",
    "# Such process involves additional XX and sigmaZ with that newly added spin.\n",
    "for n in range(3,N+1):\n",
    "    H = np.kron(H,I) - np.kron(np.eye(2**(n-2)),XX) - h*np.kron(np.eye(2**(n-1)),sigmaZ)\n",
    "H = H - np.kron(sigmaX, np.kron(np.eye(2**(N-2)),sigmaX))    "
   ]
  },
  {
   "cell_type": "code",
   "execution_count": 104,
   "metadata": {},
   "outputs": [
    {
     "data": {
      "text/plain": [
       "(1024, 1024)"
      ]
     },
     "execution_count": 104,
     "metadata": {},
     "output_type": "execute_result"
    }
   ],
   "source": [
    "H.shape"
   ]
  },
  {
   "cell_type": "markdown",
   "metadata": {},
   "source": [
    "## 41:00 ~"
   ]
  },
  {
   "cell_type": "markdown",
   "metadata": {},
   "source": [
    "### Build the translation operator for Quantum ising model of N spins"
   ]
  },
  {
   "cell_type": "code",
   "execution_count": null,
   "metadata": {},
   "outputs": [],
   "source": [
    "T = "
   ]
  },
  {
   "cell_type": "markdown",
   "metadata": {},
   "source": [
    "# Lec. 03"
   ]
  },
  {
   "cell_type": "markdown",
   "metadata": {},
   "source": [
    "* 1. Use Monte Carlo sampling to compute partition function Z of 2D Ising model.\n",
    "* 2. Use transfer matrix M to compute Z as $Z= tr(M^{L})$\n",
    "* 3. Extract the CFT data of 2D Ising model."
   ]
  },
  {
   "cell_type": "code",
   "execution_count": null,
   "metadata": {},
   "outputs": [],
   "source": []
  }
 ],
 "metadata": {
  "kernelspec": {
   "display_name": "Python 3",
   "language": "python",
   "name": "python3"
  },
  "language_info": {
   "codemirror_mode": {
    "name": "ipython",
    "version": 3
   },
   "file_extension": ".py",
   "mimetype": "text/x-python",
   "name": "python",
   "nbconvert_exporter": "python",
   "pygments_lexer": "ipython3",
   "version": "3.7.3"
  }
 },
 "nbformat": 4,
 "nbformat_minor": 2
}
